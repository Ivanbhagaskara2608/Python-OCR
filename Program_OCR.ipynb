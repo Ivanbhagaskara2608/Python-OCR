{
  "nbformat": 4,
  "nbformat_minor": 0,
  "metadata": {
    "colab": {
      "provenance": []
    },
    "kernelspec": {
      "name": "python3",
      "display_name": "Python 3"
    },
    "language_info": {
      "name": "python"
    }
  },
  "cells": [
    {
      "cell_type": "code",
      "source": [
        "!apt-get install tesseract-ocr\n",
        "!apt-get install libtesseract-dev\n",
        "!pip install pytesseract\n",
        "!pip install fpdf"
      ],
      "metadata": {
        "id": "wocWB0OjpzMG"
      },
      "execution_count": null,
      "outputs": []
    },
    {
      "cell_type": "code",
      "execution_count": 10,
      "metadata": {
        "colab": {
          "base_uri": "https://localhost:8080/",
          "height": 35
        },
        "id": "43X3XsIIpAKL",
        "outputId": "d9481a4b-391b-4b91-e3eb-7ffdf4c2b382"
      },
      "outputs": [
        {
          "output_type": "execute_result",
          "data": {
            "text/plain": [
              "''"
            ],
            "application/vnd.google.colaboratory.intrinsic+json": {
              "type": "string"
            }
          },
          "metadata": {},
          "execution_count": 10
        }
      ],
      "source": [
        "import pytesseract\n",
        "from PIL import Image\n",
        "from fpdf import FPDF\n",
        "\n",
        "# Menggunakan modul pytesseract untuk membaca teks dari gambar\n",
        "image_path = \"logo-pos-indonesia.jpg\"  # path file gambar\n",
        "\n",
        "# Ekstrak teks dari gambar\n",
        "image = Image.open(image_path)\n",
        "text = pytesseract.image_to_string(image)\n",
        "\n",
        "# Buat PDF dari teks yang diekstrak\n",
        "pdf = FPDF()\n",
        "pdf.add_page()\n",
        "pdf.set_auto_page_break(auto=True, margin=15)\n",
        "pdf.set_font(\"Arial\", size=12)\n",
        "pdf.multi_cell(0, 10, text)\n",
        "pdf.output(\"logo-pos-indonesia.pdf\") #path dan nama file PDF yang ingin dihasilkan"
      ]
    }
  ]
}